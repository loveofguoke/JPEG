{
 "cells": [
  {
   "cell_type": "markdown",
   "metadata": {},
   "source": [
    "# Decompression"
   ]
  },
  {
   "cell_type": "code",
   "execution_count": 20,
   "metadata": {},
   "outputs": [],
   "source": [
    "# import\n",
    "import numpy as np\n",
    "import cv2 as cv\n",
    "import math\n",
    "import os"
   ]
  },
  {
   "cell_type": "code",
   "execution_count": 21,
   "metadata": {},
   "outputs": [],
   "source": [
    "filename = \"BaboonRGB.myjpeg\"\n",
    "filename_without_ext = os.path.splitext(filename)[0]"
   ]
  },
  {
   "cell_type": "code",
   "execution_count": 22,
   "metadata": {},
   "outputs": [],
   "source": [
    "# Read compressed data from a binary file\n",
    "import struct\n",
    "import pickle\n",
    "import bitarray\n",
    "\n",
    "def read_binary_file(filename):\n",
    "    with open(filename, 'rb') as f:\n",
    "        # Read the height and width\n",
    "        height, width = struct.unpack('ii', f.read(8))\n",
    "\n",
    "        # Read the number of Huffman coding tables\n",
    "        num_tables = struct.unpack('B', f.read(1))[0]\n",
    "\n",
    "        huffman_tables = []\n",
    "        encoded_datas = []\n",
    "\n",
    "        for _ in range(num_tables):\n",
    "            # Read the length of the coding table\n",
    "            table_length = struct.unpack('I', f.read(4))[0]\n",
    "\n",
    "            # Read the serialized coding table and perform deserialization\n",
    "            serialized_table = f.read(table_length)\n",
    "            huffman_tables.append(pickle.loads(serialized_table))\n",
    "\n",
    "            # Read the length of the encoded data in bits\n",
    "            data_length = struct.unpack('I', f.read(4))[0]\n",
    "            # Convert the units from bits to bytes\n",
    "            data_length_in_bytes = math.ceil(data_length/8)\n",
    "\n",
    "            # Read the encoded data\n",
    "            data = bitarray.bitarray()\n",
    "            data.fromfile(f, data_length_in_bytes)\n",
    "            data = data[:data_length]\n",
    "\n",
    "            # Convert the bitarray object to a 01 string\n",
    "            data = data.to01()\n",
    "            encoded_datas.append(data)\n",
    "\n",
    "    return huffman_tables, encoded_datas, height, width\n",
    "\n",
    "huffman_tables, encoded_datas, img_height, img_width = read_binary_file(filename)\n",
    "dcY_encoding_table, dcCb_encoding_table, dcCr_encoding_table, acY_encoding_table, acCb_encoding_table, acCr_encoding_table = huffman_tables\n",
    "dcY_encoded_data, dcCb_encoded_data, dcCr_encoded_data, acY_encoded_data, acCb_encoded_data, acCr_encoded_data = encoded_datas"
   ]
  },
  {
   "cell_type": "code",
   "execution_count": 23,
   "metadata": {},
   "outputs": [],
   "source": [
    "# Perform Entropy Decoding\n",
    "def huffman_decode(encoding_table, encoded_data):\n",
    "    decoded_data = []\n",
    "    reversed_encoding_table = {v: k for k, v in encoding_table.items()}\n",
    "    current_code = ''\n",
    "\n",
    "    for bit in encoded_data:\n",
    "        current_code += bit\n",
    "        if current_code in reversed_encoding_table:\n",
    "            char = reversed_encoding_table[current_code]\n",
    "            decoded_data.append(char)\n",
    "            current_code = ''\n",
    "\n",
    "    return decoded_data\n",
    "\n",
    "dpcmY = np.array(huffman_decode(dcY_encoding_table, dcY_encoded_data))\n",
    "dpcmCb = np.array(huffman_decode(dcCb_encoding_table, dcCb_encoded_data))\n",
    "dpcmCr = np.array(huffman_decode(dcCr_encoding_table, dcCr_encoded_data))\n",
    "rlcY = huffman_decode(acY_encoding_table, acY_encoded_data)\n",
    "rlcCb = huffman_decode(acCb_encoding_table, acCb_encoded_data)\n",
    "rlcCr = huffman_decode(acCr_encoding_table, acCr_encoded_data)"
   ]
  },
  {
   "cell_type": "code",
   "execution_count": 24,
   "metadata": {},
   "outputs": [],
   "source": [
    "# Compute num_block, create zig_blocks(num_block, 64)\n",
    "num_blockY = dpcmY.shape[0]\n",
    "num_blockCb = dpcmCb.shape[0]\n",
    "num_blockCr = dpcmCr.shape[0]\n",
    "zigY = np.zeros((num_blockY, 64))\n",
    "zigCb = np.zeros((num_blockCb, 64))\n",
    "zigCr = np.zeros((num_blockCr, 64))"
   ]
  },
  {
   "cell_type": "code",
   "execution_count": 25,
   "metadata": {},
   "outputs": [],
   "source": [
    "# DPCM Decoding\n",
    "def dpcm_decode(dpcm_table, zig_blocks): # (num_block,), (num_block, 64)\n",
    "    for i in range(zig_blocks.shape[0]):\n",
    "        if i == 0:\n",
    "            zig_blocks[i][0] = dpcm_table[i]\n",
    "        else:\n",
    "            zig_blocks[i][0] = zig_blocks[i-1][0] + dpcm_table[i]\n",
    "\n",
    "dpcm_decode(dpcmY, zigY)\n",
    "dpcm_decode(dpcmCb, zigCb)\n",
    "dpcm_decode(dpcmCr, zigCr)"
   ]
  },
  {
   "cell_type": "code",
   "execution_count": 26,
   "metadata": {},
   "outputs": [],
   "source": [
    "# RLC Decoding\n",
    "def rlc_decode(rlc_table, zig_blocks): # (num_block * ?), (num_block, 64)\n",
    "    i = 0 # block_index\n",
    "    j = 1 # block_element_index\n",
    "    for k in range(len(rlc_table)):\n",
    "        if rlc_table[k] == (0, 0): # the end of this block\n",
    "            i = i + 1 # turn to next block\n",
    "            j = 1\n",
    "        else: # (skip, value)\n",
    "            j = j + rlc_table[k][0]\n",
    "            zig_blocks[i][j] = rlc_table[k][1]\n",
    "            j = j + 1\n",
    "\n",
    "rlc_decode(rlcY, zigY)\n",
    "rlc_decode(rlcCb, zigCb)\n",
    "rlc_decode(rlcCr, zigCr)"
   ]
  },
  {
   "cell_type": "code",
   "execution_count": 27,
   "metadata": {},
   "outputs": [],
   "source": [
    "# Inverse Zigzag\n",
    "def izigzag(linearized_blocks): # (num_block, 64)\n",
    "    zigzag_table = np.array([[0, 1, 5, 6, 14, 15, 27, 28],\n",
    "                            [2, 4, 7, 13, 16, 26, 29, 42],\n",
    "                            [3, 8, 12, 17, 25, 30, 41, 43],\n",
    "                            [9, 11, 18, 24, 31, 40, 44, 53],\n",
    "                            [10, 19, 23, 32, 39, 45, 52, 54],\n",
    "                            [20, 22, 33, 38, 46, 51, 55, 60],\n",
    "                            [21, 34, 37, 47, 50, 56, 59, 61],\n",
    "                            [35, 36, 48, 49, 57, 58, 62, 63]])\n",
    "\n",
    "    blocks = np.zeros((linearized_blocks.shape[0], 8, 8))\n",
    "    for x in range(blocks.shape[0]):\n",
    "        for i in range(8):\n",
    "            for j in range(8):\n",
    "                blocks[x][i][j] = linearized_blocks[x][zigzag_table[i][j]]\n",
    "\n",
    "    return blocks # (num_block, 8, 8)\n",
    "\n",
    "qY = izigzag(zigY)\n",
    "qCb = izigzag(zigCb)\n",
    "qCr = izigzag(zigCr)"
   ]
  },
  {
   "cell_type": "code",
   "execution_count": 28,
   "metadata": {},
   "outputs": [],
   "source": [
    "# Inverse Quantization\n",
    "Luminance_Quantization_Table = np.array([[16, 11, 10, 16, 24, 40, 51, 61],\n",
    "                                        [12, 12, 14, 19, 26, 58, 60, 55],\n",
    "                                        [14, 13, 16, 24, 40, 57, 69, 56],\n",
    "                                        [14, 17, 22, 29, 51, 87, 80, 62],\n",
    "                                        [18, 22, 37, 56, 68, 109, 103, 77],\n",
    "                                        [24, 35, 55, 64, 81, 104, 113, 92],\n",
    "                                        [49, 64, 78, 87, 103, 121, 120, 101],\n",
    "                                        [72, 92, 95, 98, 112, 100, 103, 99]])\n",
    "\n",
    "Chrominance_Quantization_Table = np.array([[17, 18, 24, 47, 99, 99, 99, 99],\n",
    "                                        [18, 21, 26, 66, 99, 99, 99, 99],\n",
    "                                        [24, 26, 56, 99, 99, 99, 99, 99],\n",
    "                                        [47, 66, 99, 99, 99, 99, 99, 99],\n",
    "                                        [99, 99, 99, 99, 99, 99, 99, 99],\n",
    "                                        [99, 99, 99, 99, 99, 99, 99, 99],\n",
    "                                        [99, 99, 99, 99, 99, 99, 99, 99],\n",
    "                                        [99, 99, 99, 99, 99, 99, 99, 99]])\n",
    "\n",
    "def iquantization(blocks, quantization_table): # (num_block, 8, 8)\n",
    "    return blocks * quantization_table # (num_block, 8, 8)\n",
    "\n",
    "dctY = iquantization(qY, Luminance_Quantization_Table)\n",
    "dctCb = iquantization(qCb, Chrominance_Quantization_Table)\n",
    "dctCr = iquantization(qCr, Chrominance_Quantization_Table)"
   ]
  },
  {
   "cell_type": "code",
   "execution_count": 29,
   "metadata": {},
   "outputs": [],
   "source": [
    "# Perform IDCT on image blocks\n",
    "def getDctMatrix():\n",
    "    dct_matrix = np.zeros((8, 8))\n",
    "    for i in range(8):\n",
    "        for j in range(8):\n",
    "            if i == 0:\n",
    "                dct_matrix[i][j] = 1 / (2*np.sqrt(2))\n",
    "            else:\n",
    "                dct_matrix[i][j] = (1.0/2) * np.cos((2*j+1)*i*np.pi/16)\n",
    "    return dct_matrix\n",
    "\n",
    "def idct(dct_blocks, dct_matrix): # (num_block, 8, 8)\n",
    "    blocks = np.zeros_like(dct_blocks)\n",
    "    for block_index in range(blocks.shape[0]):\n",
    "        for u in range(8):\n",
    "            for v in range(8):\n",
    "                blocks[block_index] = dct_matrix.T @ dct_blocks[block_index] @ dct_matrix\n",
    "\n",
    "    return blocks # (num_block, 8, 8)\n",
    "\n",
    "dct_matrix = getDctMatrix()\n",
    "blocksY = idct(dctY, dct_matrix)\n",
    "blocksCb = idct(dctCb, dct_matrix)\n",
    "blocksCr = idct(dctCr, dct_matrix)"
   ]
  },
  {
   "cell_type": "code",
   "execution_count": 30,
   "metadata": {},
   "outputs": [],
   "source": [
    "# Calculate the size of padded Y, Cb, Cr components based on the size of the original image\n",
    "def getPaddedSize(h, w): # (heignt, width)\n",
    "    h = round(h)\n",
    "    w = round(w)\n",
    "    h_padding = 0\n",
    "    w_padding = 0\n",
    "    if h % 8 != 0:\n",
    "        h_padding = 8 - (h % 8)\n",
    "    if w % 8 != 0:\n",
    "        w_padding = 8 - (w % 8)\n",
    "    return (h+h_padding, w+w_padding) # (height_padded, width_padded)\n",
    "\n",
    "imgY_padded = np.zeros(getPaddedSize(img_height, img_width))\n",
    "imgCb_padded = np.zeros(getPaddedSize(img_height/2, img_width/2))\n",
    "imgCr_padded = np.zeros(getPaddedSize(img_height/2, img_width/2))"
   ]
  },
  {
   "cell_type": "code",
   "execution_count": 31,
   "metadata": {},
   "outputs": [],
   "source": [
    "# Merge the 8x8 small blocks into the image\n",
    "def mergeBlocks(blocks, img): # (num_block, 8, 8), (height_padded, width_padded)\n",
    "    h, w = img.shape[:2]\n",
    "    for i in range(h//8):\n",
    "        for j in range(w//8):\n",
    "            yoff, xoff = i*8, j*8\n",
    "            img[yoff:yoff+8, xoff:xoff+8] = blocks[i*(w//8)+j, :, :]\n",
    "\n",
    "mergeBlocks(blocksY, imgY_padded)\n",
    "mergeBlocks(blocksCb, imgCb_padded)\n",
    "mergeBlocks(blocksCr, imgCr_padded)"
   ]
  },
  {
   "cell_type": "code",
   "execution_count": 32,
   "metadata": {},
   "outputs": [],
   "source": [
    "# Crop the padded image back to the original size\n",
    "imgY = imgY_padded[:img_height, :img_width]\n",
    "imgCb = imgCb_padded[:img_height//2, :img_width//2]\n",
    "imgCr = imgCr_padded[:img_height//2, :img_width//2]"
   ]
  },
  {
   "cell_type": "code",
   "execution_count": 33,
   "metadata": {},
   "outputs": [],
   "source": [
    "# Perform color upsampling interpolation and merge the three channels\n",
    "def upSample(y, cb, cr): # (height, width) Y, Cb, Cr\n",
    "    ycbcr = np.zeros((img_height, img_width, 3))\n",
    "    for i in range(cb.shape[0]):\n",
    "        for j in range(cb.shape[1]):\n",
    "            ycbcr[i*2][j*2][1] = ycbcr[i*2+1][j*2][1] = ycbcr[i*2][j*2+1][1] = ycbcr[i*2+1][j*2+1][1] = cb[i][j]\n",
    "            ycbcr[i*2][j*2][2] = ycbcr[i*2+1][j*2][2] = ycbcr[i*2][j*2+1][2] = ycbcr[i*2+1][j*2+1][2] = cr[i][j]\n",
    "    \n",
    "    ycbcr[:, :, 0] = y\n",
    "    return ycbcr # (height, width, 3) RGB\n",
    "\n",
    "imgYCbCr = upSample(imgY, imgCb, imgCr)"
   ]
  },
  {
   "cell_type": "code",
   "execution_count": 34,
   "metadata": {},
   "outputs": [],
   "source": [
    "# Transform YCbCr to RGB\n",
    "def ycbcr2rgb(imgYCbCr): # (height, width)\n",
    "    # Define the transformation matrix\n",
    "    xform_matrix = np.array([[1, 0, 1.402],\n",
    "                           [1, -0.344136, -0.714136],\n",
    "                           [1, 1.772, 0]])\n",
    "    imgYCbCr[:, :, [1, 2]] -= 128.0\n",
    "    rgb = np.dot(imgYCbCr, xform_matrix.T)\n",
    "    return rgb # (height, width)\n",
    "\n",
    "imgRGB = ycbcr2rgb(imgYCbCr)\n",
    "imgRGB = np.clip(imgRGB, 0, 255) # https://www.cnblogs.com/sunny-li/p/10265755.html\n",
    "imgRGB = imgRGB.astype(np.uint8)"
   ]
  },
  {
   "cell_type": "code",
   "execution_count": 35,
   "metadata": {},
   "outputs": [
    {
     "data": {
      "text/plain": [
       "True"
      ]
     },
     "execution_count": 35,
     "metadata": {},
     "output_type": "execute_result"
    }
   ],
   "source": [
    "# Show and save the decompressed image\n",
    "imgBGR = cv.cvtColor(imgRGB, cv.COLOR_RGB2BGR)\n",
    "cv.imshow(\"result\", imgBGR)\n",
    "cv.waitKey(0)\n",
    "cv.imwrite(filename_without_ext+\"_decompressed\"+\".bmp\", imgBGR)"
   ]
  }
 ],
 "metadata": {
  "kernelspec": {
   "display_name": "Python 3.9.9 64-bit",
   "language": "python",
   "name": "python3"
  },
  "language_info": {
   "codemirror_mode": {
    "name": "ipython",
    "version": 3
   },
   "file_extension": ".py",
   "mimetype": "text/x-python",
   "name": "python",
   "nbconvert_exporter": "python",
   "pygments_lexer": "ipython3",
   "version": "3.9.9"
  },
  "orig_nbformat": 4,
  "vscode": {
   "interpreter": {
    "hash": "e8d1ec50fd7cdf00e23e95138235c186cd194dab816568c511b1f672e5e9780d"
   }
  }
 },
 "nbformat": 4,
 "nbformat_minor": 2
}
